{
 "cells": [
  {
   "cell_type": "code",
   "execution_count": null,
   "id": "89f65dbb",
   "metadata": {},
   "outputs": [],
   "source": [
    "import pandas as pd\n",
    "import numpy as np\n",
    "import matplotlib.pyplot as plt\n",
    "from datetime import datetime, timedelta\n",
    "import requests\n",
    "import seaborn as sns\n",
    "import colorcet as cc\n",
    "import time"
   ]
  },
  {
   "cell_type": "code",
   "execution_count": null,
   "id": "62dd009d",
   "metadata": {},
   "outputs": [],
   "source": [
    "df = pd.read_csv(\"logs.txt\", sep=\" \", names=[\"month\", \"day\", \"time\", \"user\", \"ip\",\"port\"])\n",
    "df[\"dateTime\"] = \"2023-\" + df[\"month\"].astype(str) + \"-\" + df[\"day\"].astype(str) + \"T\" + df[\"time\"].astype(str)\n",
    "df.dateTime = pd.to_datetime(df.dateTime)\n",
    "df.drop([\"month\",\"day\",\"time\"], axis=1, inplace=True)"
   ]
  },
  {
   "cell_type": "code",
   "execution_count": null,
   "id": "013f1505",
   "metadata": {},
   "outputs": [],
   "source": [
    "def get_location(ip, country, city):\n",
    "    ip_address = ip\n",
    "    response = requests.get(\"https://ipgeolocation.abstractapi.com/v1/?api_key=066c7d0f4e024bdd946b83581480e8ae\"+'&ip_address='+ip_address).json()\n",
    "    country[ip_address] = response.get(\"country\")\n",
    "    city[ip_address] = response.get(\"city\")\n",
    "    return country, city\n",
    "\n",
    "#ips = df.ip.unique()\n",
    "#country = {}\n",
    "#city = {}\n",
    "#for ip in ips:\n",
    "#    country, city = get_location(ip, country, city)\n",
    "#    time.sleep(1.1)\n",
    "    \n",
    "#df[\"country\"] = df.ip.map(country)\n",
    "#df[\"city\"] = df.ip.map(city)\n"
   ]
  },
  {
   "cell_type": "code",
   "execution_count": null,
   "id": "3db36f4e",
   "metadata": {},
   "outputs": [],
   "source": [
    "#df.to_csv(\"ramka.csv\", index=False)"
   ]
  },
  {
   "cell_type": "code",
   "execution_count": null,
   "id": "65ea1b16",
   "metadata": {},
   "outputs": [],
   "source": [
    "df = pd.read_csv(\"ramka.csv\")\n",
    "for index in df[df.city == \"Nîmes\"].index:\n",
    "    df.at[index, \"country\"] = \"France\" \n",
    "print(df[df.city==\"Nîmes\"])"
   ]
  },
  {
   "cell_type": "code",
   "execution_count": null,
   "id": "9388374d",
   "metadata": {},
   "outputs": [],
   "source": [
    "df.dateTime = pd.to_datetime(df.dateTime)\n",
    "df.set_index('dateTime', drop=False, inplace=True)\n",
    "df['dateTime'].groupby(pd.Grouper(freq='60Min')).count().plot(kind=\"bar\", title=\"Liczba ataków w przedziałach czasowych (1h)\")"
   ]
  },
  {
   "cell_type": "code",
   "execution_count": null,
   "id": "80a9d332",
   "metadata": {},
   "outputs": [],
   "source": [
    "# datetime(year, month, day, hour, minute, second)\n",
    "countries = pd.DataFrame()\n",
    "b = datetime(2023, 3, 27, 9, 0, 0)\n",
    "for i in range(0,34):\n",
    "    sliceDf = df[(df.dateTime>b+timedelta(hours=i)) & (df.dateTime<b+timedelta(hours=i+1))]\n",
    "    sliceDf = pd.concat([sliceDf.groupby(\"country\").count()[\"user\"]], keys=[f\"{b+timedelta(hours=i)}\"])\n",
    "    countries = pd.concat([countries, sliceDf])\n",
    "countries.index = pd.MultiIndex.from_tuples(countries.index, names=('fromDateTime', 'country'))\n",
    "countries.columns = [\"attack_count\"]\n",
    "display(countries)"
   ]
  },
  {
   "cell_type": "code",
   "execution_count": null,
   "id": "1d085075",
   "metadata": {},
   "outputs": [],
   "source": [
    "fig, ax = plt.subplots(1,1,figsize=(25,10))\n",
    "palette = sns.color_palette(cc.glasbey, n_colors=45)\n",
    "sns.stripplot(data=df.dropna(), x=\"country\", y=\"dateTime\", hue=\"city\", ax=ax, palette=palette, alpha=0.5)\n",
    "ax.legend(ncols=3)\n",
    "ax.set_title(\"Time of attacks\")"
   ]
  },
  {
   "cell_type": "code",
   "execution_count": null,
   "id": "897f2165",
   "metadata": {},
   "outputs": [],
   "source": [
    "ips = df.ip.unique()\n",
    "var = df.groupby(\"ip\").size()\n",
    "dicktionary = {}\n",
    "for ip in ips:\n",
    "    dicktionary[ip] = var[ip]\n",
    "ipDf = pd.DataFrame(ips)\n",
    "ipDf.columns = [\"ip\"]\n",
    "ipDf[\"attackCount\"] = ipDf.ip.map(dicktionary)\n",
    "display(ipDf.head())"
   ]
  },
  {
   "cell_type": "code",
   "execution_count": null,
   "id": "6f4af168",
   "metadata": {},
   "outputs": [],
   "source": [
    "var = df.groupby([\"ip\"])[\"user\"].nunique()\n",
    "dicktionary = {}\n",
    "for ip in ips:\n",
    "    dicktionary[ip] = var[ip]\n",
    "ipDf[\"usedUser\"] = ipDf.ip.map(dicktionary)\n",
    "display(ipDf.head())"
   ]
  },
  {
   "cell_type": "code",
   "execution_count": null,
   "id": "0decea9a",
   "metadata": {},
   "outputs": [],
   "source": [
    "import tqdm\n",
    "\n",
    "#passwords = pd.read_csv(\"1000000-password-seclists.txt\", names=[\"password\"])\n",
    "#var = df.groupby(\"ip\")[\"user\"].unique()\n",
    "#dictionary = {}\n",
    "#for ip in tqdm.tqdm(ips):\n",
    "#    suma = 0\n",
    "#    for password in var[ip]:\n",
    "#        if password in passwords.password.unique():\n",
    "#            suma += 1\n",
    "#    dictionary[ip] = suma\n",
    "#ipDf[\"accuracy\"] = ipDf.ip.map(dictionary)\n",
    "#ipDf.accuracy /= ipDf.usedUser\n",
    "#display(ipDf)"
   ]
  },
  {
   "cell_type": "code",
   "execution_count": null,
   "id": "80160b78",
   "metadata": {},
   "outputs": [],
   "source": [
    "#ipDf.to_csv(\"ipDf.csv\", index=False)"
   ]
  },
  {
   "cell_type": "code",
   "execution_count": null,
   "id": "37188fde",
   "metadata": {},
   "outputs": [],
   "source": [
    "ipDf = pd.read_csv(\"ipDf.csv\")\n",
    "display(ipDf)"
   ]
  },
  {
   "cell_type": "code",
   "execution_count": null,
   "id": "ad3d7537",
   "metadata": {},
   "outputs": [],
   "source": [
    "fig = plt.figure(figsize=(10,10))\n",
    "ax = fig.add_subplot(projection='3d')\n",
    "ax.scatter(xs=ipDf.attackCount, ys=ipDf.usedUser, zs=ipDf.accuracy)\n",
    "ax.set_xlabel(\"attack count\")\n",
    "ax.set_ylabel(\"unique user\")\n",
    "ax.set_zlabel(\"accuracy (compared with file of the passwords)\")\n",
    "ax.set_box_aspect(aspect=None, zoom=0.8)\n",
    "ax.set_title(\"Ips describe in 3D\")"
   ]
  },
  {
   "cell_type": "code",
   "execution_count": null,
   "id": "ebb77664",
   "metadata": {},
   "outputs": [],
   "source": [
    "from sklearn.mixture import BayesianGaussianMixture\n",
    "ipDf = ipDf.dropna()\n",
    "ipDf[\"cluster\"] = BayesianGaussianMixture(n_components=3, covariance_type='diag', n_init = 100, \n",
    "                              weight_concentration_prior_type= \"dirichlet_distribution\",\n",
    "                              init_params=\"random_from_data\", random_state=0).fit_predict(ipDf.iloc[:,1:])"
   ]
  },
  {
   "cell_type": "code",
   "execution_count": null,
   "id": "ba99a982",
   "metadata": {},
   "outputs": [],
   "source": [
    "fig = plt.figure(figsize=(10,10))\n",
    "ax = fig.add_subplot(projection='3d')\n",
    "ax.scatter(xs=ipDf.attackCount, ys=ipDf.usedUser, zs=ipDf.accuracy, c=ipDf.cluster)\n",
    "ax.set_xlabel(\"attack count\")\n",
    "ax.set_ylabel(\"unique user\")\n",
    "ax.set_zlabel(\"accuracy (compared with file of the passwords)\")\n",
    "ax.set_box_aspect(aspect=None, zoom=0.8)\n",
    "ax.set_title(\"Clustered ips\")"
   ]
  },
  {
   "cell_type": "code",
   "execution_count": null,
   "id": "51a6722f",
   "metadata": {},
   "outputs": [],
   "source": [
    "nieszkodliwi = ipDf[ipDf.cluster == 2]\n",
    "szkodliwi = ipDf[ipDf.cluster == 1]\n",
    "grozni = ipDf[ipDf.cluster == 0]"
   ]
  },
  {
   "cell_type": "code",
   "execution_count": null,
   "id": "d267d9bf",
   "metadata": {},
   "outputs": [],
   "source": [
    "nieszkodliwi.describe().loc[[\"mean\",\"min\",\"max\",\"count\"],[\"attackCount\",\"usedUser\",\"accuracy\"]]"
   ]
  },
  {
   "cell_type": "code",
   "execution_count": null,
   "id": "05dc16d3",
   "metadata": {},
   "outputs": [],
   "source": [
    "szkodliwi.describe().loc[[\"mean\",\"min\",\"max\",\"count\"],[\"attackCount\",\"usedUser\",\"accuracy\"]]"
   ]
  },
  {
   "cell_type": "code",
   "execution_count": null,
   "id": "12b0e3ad",
   "metadata": {},
   "outputs": [],
   "source": [
    "grozni.describe().loc[[\"mean\",\"min\",\"max\",\"count\"],[\"attackCount\",\"usedUser\",\"accuracy\"]]"
   ]
  },
  {
   "cell_type": "code",
   "execution_count": null,
   "id": "98433a61",
   "metadata": {},
   "outputs": [],
   "source": [
    "dictionaries = {}\n",
    "for ip in ipDf.ip:\n",
    "    dictionaries[ip]=int(ipDf[ipDf.ip==ip].cluster)\n",
    "df[\"cluster\"] = df.ip.map(dictionaries)\n",
    "display(df.head())"
   ]
  },
  {
   "cell_type": "code",
   "execution_count": null,
   "id": "1949957f",
   "metadata": {},
   "outputs": [],
   "source": [
    "var = df[[\"ip\",\"country\",\"cluster\"]].drop_duplicates().reset_index(drop=True)"
   ]
  },
  {
   "cell_type": "code",
   "execution_count": null,
   "id": "69a0d39f",
   "metadata": {},
   "outputs": [],
   "source": [
    "data = var.groupby([\"country\",\"cluster\"]).count().unstack(fill_value=0)\n",
    "data.columns = [\"grozni\",\"szkodliwi\",\"nieszkodliwi\"]\n",
    "display(data)"
   ]
  },
  {
   "cell_type": "code",
   "execution_count": null,
   "id": "80f2d331",
   "metadata": {},
   "outputs": [],
   "source": [
    "barWidth = 0.2\n",
    "fig = plt.subplots(figsize =(22, 5))\n",
    "\n",
    "br1 = np.arange(len(var.dropna().country.unique()))\n",
    "br2 = [x + barWidth for x in br1]\n",
    "br3 = [x + barWidth for x in br2]\n",
    "\n",
    "plt.bar(br1, data.nieszkodliwi, color ='r', width = barWidth,\n",
    "        edgecolor ='grey', label ='nieszkodliwi')\n",
    "plt.bar(br2, data.szkodliwi, color ='g', width = barWidth,\n",
    "        edgecolor ='grey', label ='szkodliwi')\n",
    "plt.bar(br3, data.grozni, color ='b', width = barWidth,\n",
    "        edgecolor ='grey', label ='grozni')\n",
    " \n",
    "plt.xlabel('Country')\n",
    "plt.ylabel('Count')\n",
    "plt.xticks([r + barWidth for r in range(len(br1))],[\"UK\" if x == \"United Kingdom\" else \"USA\" if x == \"United States\" else \"SK\" if x == \"South Korea\" else x for x in data.index])\n",
    "plt.xlim([-0.5,len(var.dropna().country.unique())])\n",
    "\n",
    "plt.title(\"ip classification\")\n",
    "plt.legend()\n",
    "plt.show()"
   ]
  },
  {
   "cell_type": "code",
   "execution_count": null,
   "id": "229a903d",
   "metadata": {},
   "outputs": [],
   "source": [
    "display(df.groupby(\"cluster\")[\"ip\"].count())"
   ]
  },
  {
   "cell_type": "code",
   "execution_count": null,
   "id": "a04847bc",
   "metadata": {},
   "outputs": [],
   "source": [
    "fig, ax = plt.subplots(1,1,figsize=(5,5))\n",
    "colors = [\"b\",\"g\",\"r\"]\n",
    "ax.pie(df.groupby(\"cluster\")[\"ip\"].count(), labels=[\"grozni\", \"szkodliwi\", \"nieszkodliwi\"], colors=[\"b\",\"g\",\"r\"])\n",
    "ax.set_title(\"Udział danej kategorii we wszystkich atakach\")"
   ]
  },
  {
   "cell_type": "code",
   "execution_count": null,
   "id": "74f5815d",
   "metadata": {},
   "outputs": [],
   "source": [
    "from matplotlib.lines import Line2D\n",
    "\n",
    "fig, ax = plt.subplots(1,1,figsize=(25,10))\n",
    "palette = [\"blue\",\"green\",\"red\"]\n",
    "g = sns.stripplot(data=df.dropna(), x=\"country\", y=\"dateTime\", hue=\"cluster\", ax=ax, palette=palette, alpha=0.5)\n",
    "legend_elements = [\n",
    "                    Line2D([0], [0], marker='o', color='w', label='Grozni', markerfacecolor='b', markersize=15),\n",
    "                    Line2D([0], [0], marker='o', color='w', label='szkodliwi', markerfacecolor='g', markersize=15),\n",
    "                    Line2D([0], [0], marker='o', color='w', label='nieszkodliwi', markerfacecolor='r', markersize=15), \n",
    "                    ]\n",
    "ax.legend(handles=legend_elements, ncols=3)\n",
    "ax.set_title(\"Time of attacks\")"
   ]
  },
  {
   "cell_type": "code",
   "execution_count": null,
   "id": "2e496c80",
   "metadata": {},
   "outputs": [],
   "source": [
    "var = df.groupby([\"ip\"])[\"user\"].unique()\n",
    "docs = [x for x in var]\n",
    "words = pd.DataFrame([docs]).T\n",
    "words.columns = [\"set\"]"
   ]
  },
  {
   "cell_type": "code",
   "execution_count": null,
   "id": "3b3679f5",
   "metadata": {},
   "outputs": [],
   "source": [
    "import Levenshtein\n",
    "for index1, row1 in words.iterrows():\n",
    "    values = []\n",
    "    for index2, row2 in words.iterrows():\n",
    "        suma = 0\n",
    "        for word1 in row1.set:\n",
    "            distances = []\n",
    "                \n",
    "            for word2 in row2.set:\n",
    "                distances.append(Levenshtein.distance(str(word1), str(word2)))\n",
    "            suma += min(distances)    \n",
    "            \n",
    "        suma /= len(row1.set)\n",
    "        if suma == 0:\n",
    "            suma = np.nan\n",
    "        \n",
    "        values.append(suma)\n",
    "    words[index1] = values"
   ]
  },
  {
   "cell_type": "code",
   "execution_count": null,
   "id": "214fc6a2",
   "metadata": {},
   "outputs": [],
   "source": [
    "words = words.fillna(0)\n",
    "words[\"sizeD\"] = [len(x) for x in words.set]\n",
    "words[\"sizeD\"] = [np.emath.logn(3,x) for x in words.sizeD]\n",
    "words.iloc[:,1:]=(words.iloc[:,1:]-words.iloc[:,1:].min())/(words.iloc[:,1:].max()-words.iloc[:,1:].min())"
   ]
  },
  {
   "cell_type": "code",
   "execution_count": 75,
   "id": "187c21f5",
   "metadata": {},
   "outputs": [
    {
     "name": "stderr",
     "output_type": "stream",
     "text": [
      "/home/student/.local/lib/python3.10/site-packages/sklearn/utils/validation.py:1858: FutureWarning: Feature names only support names that are all strings. Got feature names with dtypes: ['int', 'str']. An error will be raised in 1.2.\n",
      "  warnings.warn(\n"
     ]
    }
   ],
   "source": [
    "from sklearn.cluster import SpectralClustering\n",
    "words[\"cluster\"] = SpectralClustering(n_clusters=6, assign_labels='cluster_qr', random_state=0).\\\n",
    "                    fit_predict(words.iloc[:,1:])\n"
   ]
  },
  {
   "cell_type": "code",
   "execution_count": null,
   "id": "c4deb9cb",
   "metadata": {},
   "outputs": [],
   "source": [
    "dicts = [[] for i in range(6)]\n",
    "for i in range(6):\n",
    "    for elem in words[words.cluster==i].set:\n",
    "        for x in elem:\n",
    "            dicts[i].append(x)\n",
    "    dicts[i] = list(set(dicts[i]))"
   ]
  },
  {
   "cell_type": "code",
   "execution_count": null,
   "id": "2f3c6782",
   "metadata": {},
   "outputs": [],
   "source": [
    "display(words.iloc[:,1:82].head())"
   ]
  },
  {
   "cell_type": "code",
   "execution_count": null,
   "id": "8e1adf91",
   "metadata": {},
   "outputs": [],
   "source": [
    "from sklearn.manifold import TSNE\n",
    "from matplotlib import cm\n",
    "from matplotlib.colors import ListedColormap, LinearSegmentedColormap\n",
    "\n",
    "tsne = TSNE(n_components=3, perplexity=10, init=\"pca\", learning_rate=\"auto\", random_state=0)\n",
    "tsnePlot = tsne.fit_transform(words.iloc[:,1:82])\n",
    "\n",
    "fig = plt.figure(figsize=(10,10))\n",
    "ax = fig.add_subplot(projection='3d')\n",
    "p = ax.scatter(xs=tsnePlot[:,0], ys=tsnePlot[:,1], zs=tsnePlot[:,2], c=words.cluster, cmap=cm.get_cmap('turbo', 6))\n",
    "ax.set_title(\"Visualize dict clusters\")\n",
    "fig.colorbar(p)"
   ]
  },
  {
   "cell_type": "code",
   "execution_count": null,
   "id": "41a383eb",
   "metadata": {},
   "outputs": [],
   "source": [
    "dictionary = {}\n",
    "for i in range(len(ips)):\n",
    "    dictionary[ips[i]] = words.iloc[i,-1]\n",
    "ipDf[\"dict\"] = ipDf.ip.map(dictionary)"
   ]
  },
  {
   "cell_type": "code",
   "execution_count": null,
   "id": "c61d0bd6",
   "metadata": {},
   "outputs": [],
   "source": [
    "data = ipDf.groupby([\"cluster\", \"dict\"])[\"ip\"].count().unstack(fill_value=0)\n",
    "data.index=[\"grozni\",\"szkodliwi\",\"nieszkodliwi\"]\n",
    "display(data)"
   ]
  },
  {
   "cell_type": "code",
   "execution_count": null,
   "id": "138a7b8f",
   "metadata": {},
   "outputs": [],
   "source": [
    "from matplotlib.ticker import MaxNLocator\n",
    "fig, ax = plt.subplots(1,1,figsize=(10,5))\n",
    "\n",
    "barWidth = 0.1\n",
    "br1 = np.arange(3)\n",
    "br2 = [x + barWidth for x in br1]\n",
    "br3 = [x + barWidth for x in br2]\n",
    "br4 = [x + barWidth for x in br3]\n",
    "br5 = [x + barWidth for x in br4]\n",
    "br6 = [x + barWidth for x in br5]\n",
    "br = [br1,br2,br3,br4,br5,br6]\n",
    "colors = [\"red\",\"green\",\"blue\",\"magenta\",\"orange\",\"gray\"]\n",
    "for i in range(6):\n",
    "    ax.bar(br[i], data.iloc[::-1,i], color = colors[i], width = barWidth,\n",
    "            edgecolor ='grey', label =f'dict {i}')\n",
    "ax.yaxis.set_major_locator(MaxNLocator(integer=True))\n",
    "ax.set_xlabel(\"Attack type\")\n",
    "ax.set_ylabel(\"ip number\")\n",
    "ax.set_title(\"Typ ataku, a używany słownik\")\n",
    "plt.xticks([r + barWidth*2.5 for r in range(len(br1))],[\"nieszkodliwi\",\"szkodliwi\",\"grozni\"])\n",
    "plt.xlim([-0.5,3])\n",
    "plt.legend()"
   ]
  },
  {
   "cell_type": "code",
   "execution_count": null,
   "id": "da25d9d9",
   "metadata": {},
   "outputs": [],
   "source": [
    "dicts[0]"
   ]
  },
  {
   "cell_type": "code",
   "execution_count": null,
   "id": "e33a885c",
   "metadata": {},
   "outputs": [],
   "source": [
    "dicts[1]"
   ]
  },
  {
   "cell_type": "code",
   "execution_count": null,
   "id": "c3604907",
   "metadata": {},
   "outputs": [],
   "source": [
    "print(dicts[2][:10])\n",
    "print(len(dicts[2]))"
   ]
  },
  {
   "cell_type": "code",
   "execution_count": null,
   "id": "de28abfe",
   "metadata": {},
   "outputs": [],
   "source": [
    "print(dicts[3][:10])\n",
    "print(len(dicts[3]))"
   ]
  },
  {
   "cell_type": "code",
   "execution_count": null,
   "id": "598598f9",
   "metadata": {},
   "outputs": [],
   "source": [
    "print(dicts[4][:10])\n",
    "print(len(dicts[4]))"
   ]
  },
  {
   "cell_type": "code",
   "execution_count": null,
   "id": "6fa36a39",
   "metadata": {},
   "outputs": [],
   "source": [
    "dicts[5]"
   ]
  },
  {
   "cell_type": "code",
   "execution_count": null,
   "id": "5f0324e8",
   "metadata": {},
   "outputs": [],
   "source": [
    "len([x for x in dicts[2] if not x in dicts[3]])"
   ]
  },
  {
   "cell_type": "code",
   "execution_count": null,
   "id": "cc8a71ec",
   "metadata": {},
   "outputs": [],
   "source": [
    "len([x for x in dicts[4] if not x in dicts[3]])"
   ]
  },
  {
   "cell_type": "code",
   "execution_count": null,
   "id": "77b1696e",
   "metadata": {},
   "outputs": [],
   "source": [
    "len([x for x in dicts[2] if not x in dicts[4]])"
   ]
  },
  {
   "cell_type": "code",
   "execution_count": null,
   "id": "9835daf2",
   "metadata": {},
   "outputs": [],
   "source": [
    "dictionary = {}\n",
    "for index, row in df[[\"country\",\"ip\"]].drop_duplicates().iterrows():\n",
    "    dictionary[row.ip] = row.country\n",
    "ipDf[\"country\"] = ipDf.ip.map(dictionary)\n",
    "data = ipDf.groupby([\"country\",\"dict\"])[\"ip\"].count().unstack(fill_value=0)\n",
    "display(data)"
   ]
  },
  {
   "cell_type": "code",
   "execution_count": null,
   "id": "8cbb1c17",
   "metadata": {},
   "outputs": [],
   "source": [
    "import random\n",
    "from itertools import compress\n",
    "\n",
    "barWidth = 0.2\n",
    "fig,ax = plt.subplots(2,3,figsize =(20, 10))\n",
    "random.seed(0)\n",
    "random_colors = [\"#\"+''.join([random.choice('ABCDEF0123456789') for i in range(6)]) for j in range(len(data))]\n",
    "ax[0,0].pie(data[data.iloc[:,0]!=0].iloc[:,0], labels=data[data.iloc[:,0]!=0].index, colors=compress(random_colors,(data.iloc[:,0]!=0).to_numpy()))\n",
    "ax[0,1].pie(data[data.iloc[:,1]!=0].iloc[:,1], labels=data[data.iloc[:,1]!=0].index, colors=compress(random_colors,(data.iloc[:,1]!=0).to_numpy()))\n",
    "ax[0,2].pie(data[data.iloc[:,2]!=0].iloc[:,2], labels=data[data.iloc[:,2]!=0].index, colors=compress(random_colors,(data.iloc[:,2]!=0).to_numpy()))\n",
    "ax[1,0].pie(data[data.iloc[:,3]!=0].iloc[:,3], labels=data[data.iloc[:,3]!=0].index, colors=compress(random_colors,(data.iloc[:,3]!=0).to_numpy()))\n",
    "ax[1,1].pie(data[data.iloc[:,4]!=0].iloc[:,4], labels=data[data.iloc[:,4]!=0].index, colors=compress(random_colors,(data.iloc[:,4]!=0).to_numpy()))\n",
    "ax[1,2].pie(data[data.iloc[:,5]!=0].iloc[:,5], labels=data[data.iloc[:,5]!=0].index, colors=compress(random_colors,(data.iloc[:,5]!=0).to_numpy()))\n",
    "ax[0,0].set_title(\"wqmarlduiqkmgs\"+\"  dict 0\")\n",
    "ax[0,1].set_title(\"['sap_adm01', 'Admin', 'centos', 'temp1', 'admin']\"+\"  dict 1\")\n",
    "ax[0,2].set_title(\"len: \"+str(len(dicts[2]))+\"  dict 2\")\n",
    "ax[1,0].set_title(\"len: \"+str(len(dicts[3]))+\"  dict 3\")\n",
    "ax[1,1].set_title(\"len: \"+str(len(dicts[4]))+\"  dict 4\")\n",
    "ax[1,2].set_title(\"['ubnt', 'root']\"+\"  dict 5\")"
   ]
  },
  {
   "cell_type": "code",
   "execution_count": null,
   "id": "18a37600",
   "metadata": {},
   "outputs": [],
   "source": [
    "display(ipDf[ipDf.dict==5])"
   ]
  },
  {
   "cell_type": "code",
   "execution_count": null,
   "id": "4cdcedce",
   "metadata": {},
   "outputs": [],
   "source": [
    "df[df.country==\"France\"].groupby([\"country\",\"cluster\"])[\"city\"].count()"
   ]
  },
  {
   "cell_type": "code",
   "execution_count": null,
   "id": "f79d7b21",
   "metadata": {},
   "outputs": [],
   "source": [
    "df[df.user==\"kiosk\"]"
   ]
  },
  {
   "cell_type": "code",
   "execution_count": null,
   "id": "6a211a0e",
   "metadata": {},
   "outputs": [],
   "source": [
    "dicts[4]"
   ]
  },
  {
   "cell_type": "code",
   "execution_count": null,
   "id": "7b72c472",
   "metadata": {},
   "outputs": [],
   "source": []
  }
 ],
 "metadata": {
  "kernelspec": {
   "display_name": "Python 3 (ipykernel)",
   "language": "python",
   "name": "python3"
  },
  "language_info": {
   "codemirror_mode": {
    "name": "ipython",
    "version": 3
   },
   "file_extension": ".py",
   "mimetype": "text/x-python",
   "name": "python",
   "nbconvert_exporter": "python",
   "pygments_lexer": "ipython3",
   "version": "3.10.6"
  }
 },
 "nbformat": 4,
 "nbformat_minor": 5
}
